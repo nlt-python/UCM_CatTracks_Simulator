{
 "cells": [
  {
   "cell_type": "code",
   "execution_count": 1,
   "metadata": {},
   "outputs": [],
   "source": [
    "import pandas as pd\n",
    "import matplotlib.pyplot as plt\n",
    "import collections\n",
    "\n",
    "%matplotlib inline\n",
    "plt.style.use('ggplot')"
   ]
  },
  {
   "cell_type": "code",
   "execution_count": null,
   "metadata": {},
   "outputs": [],
   "source": []
  },
  {
   "cell_type": "code",
   "execution_count": 2,
   "metadata": {},
   "outputs": [
    {
     "data": {
      "text/plain": [
       "['CAT BILL',\n",
       " 'FARES',\n",
       " 'DELAYS',\n",
       " 'BIKES',\n",
       " 'C1 BLUE',\n",
       " 'C1-GOLD',\n",
       " 'C2 - EXPRESS',\n",
       " 'SAT-SUN E1-LINE DOWNTOWN',\n",
       " 'E1 HOLIDAY',\n",
       " 'SAT-SUN E2-LINE HOUSING',\n",
       " 'E2 HOLIDAY',\n",
       " 'Fastcat',\n",
       " 'G-Line',\n",
       " 'Heritage 1 ',\n",
       " 'Heritage 2',\n",
       " 'SAT-SUND HERITAGE',\n",
       " 'FR-SAT NITECAT',\n",
       " 'PAX LEFT',\n",
       " 'STANDBY',\n",
       " 'AB LINE',\n",
       " 'E-Line']"
      ]
     },
     "execution_count": 2,
     "metadata": {},
     "output_type": "execute_result"
    }
   ],
   "source": [
    "filename = '219-CATTRACKS Fall 2019- February Billing.xlsx'\n",
    "\n",
    "xlsx_df = pd.ExcelFile(filename)\n",
    "xlsx_df.sheet_names"
   ]
  },
  {
   "cell_type": "markdown",
   "metadata": {},
   "source": [
    "\n",
    "Based on assessment of csv data, most informative sheets in workbook consist of these bus lines:\n",
    " 'C1 BLUE',\n",
    " 'C1-GOLD',\n",
    " 'C2 - EXPRESS',\n",
    " 'G-Line'\n",
    "\n",
    "Will only read those sheets into a pandas df\n",
    "And then into a dictionary to track of the bus line and its total load data\n"
   ]
  },
  {
   "cell_type": "code",
   "execution_count": 3,
   "metadata": {},
   "outputs": [],
   "source": [
    "use_sheets = ['C1 BLUE', 'C1-GOLD', 'C2 - EXPRESS', 'G-Line']\n",
    "df_names = ['c1_blue', 'c1_gold', 'c2_exp', 'g_line']\n",
    "\n",
    "df_dicts = {}\n",
    "for i in range(len(df_names)):\n",
    "    df_dicts[df_names[i]] = pd.read_excel(filename, use_sheets[i])"
   ]
  },
  {
   "cell_type": "code",
   "execution_count": 4,
   "metadata": {},
   "outputs": [
    {
     "name": "stdout",
     "output_type": "stream",
     "text": [
      "<class 'pandas.core.frame.DataFrame'>\n"
     ]
    }
   ],
   "source": [
    "# Hate that I am doing this brute force, but didn't know how to grab these totals otherwise:\n",
    "# Want an ordered dictionary since I am using brute means to slice data\n",
    "\n",
    "collections.OrderedDict(df_dicts)\n",
    "df_dicts.keys()\n",
    "\n",
    "\n",
    "# Slices obtained through visual analysis and trial and error. Will not be able to \n",
    "# get away with doing this on a larger data set\n",
    "\n",
    "c1_blue = df_dicts['c1_blue'].iloc[4:25, 86:101]\n",
    "c1_gold = df_dicts['c1_gold'].iloc[4:25, 81:95]\n",
    "c2_exp = df_dicts['c2_exp'].iloc[4:19, 106:125]\n",
    "g_line = df_dicts['g_line'].iloc[4:17, 101:119]\n",
    "\n",
    "# Step above removed use of dictionaries. Just dfs now\n",
    "\n",
    "print(type(g_line))"
   ]
  },
  {
   "cell_type": "code",
   "execution_count": 5,
   "metadata": {},
   "outputs": [
    {
     "name": "stdout",
     "output_type": "stream",
     "text": [
      "               Unnamed: 86  Unnamed: 87 Unnamed: 88  Unnamed: 89  Unnamed: 90  \\\n",
      "4            C1 Blue -Line        545.0         704        843.0       1002.0   \n",
      "5           Granville Apts          0.0          31         61.0         41.0   \n",
      "6                  Walmart          0.0           0          1.0          0.0   \n",
      "7        Meadows/Olivewood          0.0          29         39.0         29.0   \n",
      "8       Alexander & \"G\" St          2.0          24         50.0         38.0   \n",
      "9        Rite Aid/Walgreen          2.0          19         84.0         31.0   \n",
      "10         El Portal Plaza          0.0          21         42.0         37.0   \n",
      "11          Mercy Hospital          3.0           0          0.0          2.0   \n",
      "12           Arrow Wood Dr         11.0         194        303.0        116.0   \n",
      "13               Muir Pass          5.0           2         85.0        124.0   \n",
      "14       Scholars/Emigrant          1.0           1          7.0         13.0   \n",
      "15   TriCol/Mercy Hospital          0.0           0          0.0          0.0   \n",
      "16  El Portal Plaza/\"G\" St          0.0           1          4.0          3.0   \n",
      "17      \"G\" St & Alexander          0.0           0          2.0          7.0   \n",
      "18       Meadows/Olivewood          0.0           1          0.0          0.0   \n",
      "19                 Walmart          0.0           1          1.0          0.0   \n",
      "20          Granville Apts          0.0           0          0.0          0.0   \n",
      "24                   TOTAL         24.0         324        679.0        441.0   \n",
      "\n",
      "   Unnamed: 91 Unnamed: 92  Unnamed: 93 Unnamed: 94  Unnamed: 95  Unnamed: 96  \\\n",
      "4         1121        1300       1419.0        1558       1717.0       1836.0   \n",
      "5           40          17         22.0          12          8.0         13.0   \n",
      "6            0           2          6.0           5          2.0          3.0   \n",
      "7           11           8         12.0          11         10.0          7.0   \n",
      "8           48          14         20.0           8          9.0          3.0   \n",
      "9           25          21         31.0          10          9.0         19.0   \n",
      "10          63          19         11.0           3          1.0         10.0   \n",
      "11           2           2          3.0           4          0.0          2.0   \n",
      "12          99          49         29.0          34         49.0         31.0   \n",
      "13         113         230        334.0         354        359.0        163.0   \n",
      "14          19          24         33.0          34         42.0         24.0   \n",
      "15           2           1          0.0           1          3.0          0.0   \n",
      "16           2           2          2.0           1          1.0          0.0   \n",
      "17           3           6          3.0           1          5.0          3.0   \n",
      "18           2           0          2.0           3          4.0          6.0   \n",
      "19           2           7          8.0           4          7.0          5.0   \n",
      "20           0           0          0.0           0          0.0          0.0   \n",
      "24         431         402        516.0         485        509.0        289.0   \n",
      "\n",
      "    Unnamed: 97  Unnamed: 98  Unnamed: 99 Unnamed: 100  \n",
      "4        2015.0       2134.0       2328.0        TOTAL  \n",
      "5           5.0          1.0          0.0          251  \n",
      "6           3.0          5.0          0.0           27  \n",
      "7           1.0          3.0          0.0          160  \n",
      "8           1.0          3.0          0.0          220  \n",
      "9           2.0          0.0          0.0          253  \n",
      "10          2.0          0.0          1.0          210  \n",
      "11          1.0          0.0          0.0           19  \n",
      "12         13.0          7.0          2.0          937  \n",
      "13         77.0         37.0         10.0         1893  \n",
      "14         13.0          9.0          3.0          223  \n",
      "15          0.0          0.0          0.0            7  \n",
      "16          0.0          0.0          0.0           16  \n",
      "17          2.0          0.0          0.0           32  \n",
      "18          0.0          0.0          0.0           18  \n",
      "19          3.0          0.0          0.0           38  \n",
      "20          0.0          0.0          0.0            0  \n",
      "24        123.0         65.0         16.0         4304  \n",
      "                   Unnamed: 81 Unnamed: 82  Unnamed: 83  Unnamed: 84  \\\n",
      "4                 C1 Gold-Line         625        744.0        923.0   \n",
      "5               Granville Apts          31         68.0        115.0   \n",
      "6                      Walmart           2          0.0          2.0   \n",
      "7            Meadows/Olivewood          14         45.0         60.0   \n",
      "8           Alexander & \"G\" St          52         63.0         57.0   \n",
      "9            Rite Aid/Walgreen          32         88.0         47.0   \n",
      "10  El Portal Plaza/\"G\" Street          26        110.0         76.0   \n",
      "11              Mercy Hospital           5          4.0          4.0   \n",
      "12               Arrow Wood Dr          81        234.0        136.0   \n",
      "13                   Muir Pass          23         12.0         44.0   \n",
      "14           Scholars/Emigrant           0          0.0          0.0   \n",
      "15           Tri College/Mercy           0          0.0          0.0   \n",
      "16  El Portal Plaza/\"G\" Street           0          0.0          1.0   \n",
      "17          Alexander & \"G\" St           0          0.0          2.0   \n",
      "18           Meadows/Olivewood           0          2.0          0.0   \n",
      "19                     Walmart           0          0.0          0.0   \n",
      "20              Granville Apts           0          0.0          0.0   \n",
      "24                       TOTAL         266        626.0        544.0   \n",
      "\n",
      "    Unnamed: 85 Unnamed: 86 Unnamed: 87 Unnamed: 88  Unnamed: 89  Unnamed: 90  \\\n",
      "4        1042.0        1201        1340        1459       1638.0       1757.0   \n",
      "5          56.0          57          39          28          6.0          5.0   \n",
      "6           3.0           3           0           1          2.0          1.0   \n",
      "7          27.0          26          11          17          7.0         15.0   \n",
      "8          89.0          53          18          28          8.0          2.0   \n",
      "9          39.0          46          19          15          8.0          9.0   \n",
      "10         41.0          49           9          16         10.0          3.0   \n",
      "11          1.0           1          10           1          0.0          4.0   \n",
      "12        216.0          90          77          28         36.0         11.0   \n",
      "13         57.0          83         116         205        259.0        138.0   \n",
      "14         12.0          20          23          40         41.0         18.0   \n",
      "15          0.0           5           0           0          1.0          0.0   \n",
      "16          1.0           0           1           4          0.0          0.0   \n",
      "17          0.0           0           4           3          0.0          0.0   \n",
      "18          0.0           0           0           2          4.0          0.0   \n",
      "19          0.0           0           3           9         10.0          7.0   \n",
      "20          0.0           0           0           0          0.0          0.0   \n",
      "24        542.0         433         330         397        392.0        213.0   \n",
      "\n",
      "    Unnamed: 91  Unnamed: 92  Unnamed: 93 Unnamed: 94  \n",
      "4        1916.0       2055.0       2214.0       TOTAL  \n",
      "5           3.0          1.0          0.0         409  \n",
      "6           0.0          0.0          0.0          14  \n",
      "7           2.0          3.0          3.0         230  \n",
      "8           1.0          1.0          1.0         373  \n",
      "9           5.0          1.0          2.0         311  \n",
      "10          0.0          0.0          0.0         340  \n",
      "11          0.0          0.0          0.0          30  \n",
      "12         13.0          3.0          3.0         928  \n",
      "13        103.0         74.0          0.0        1114  \n",
      "14         12.0         17.0          0.0         183  \n",
      "15          1.0          2.0          0.0           9  \n",
      "16          0.0          0.0          0.0           7  \n",
      "17          1.0          0.0          0.0          10  \n",
      "18          3.0          0.0          0.0          11  \n",
      "19          3.0          4.0          0.0          36  \n",
      "20          0.0          0.0          0.0           0  \n",
      "24        147.0        106.0          9.0        4005  \n"
     ]
    }
   ],
   "source": [
    "# Only c1_blue and c1_gold lines have Nans in first column.\n",
    "# c2_exp, g_line do not have Nans in first column\n",
    "\n",
    "nans_lst = [c1_blue, c1_gold]\n",
    "\n",
    "for df in nans_lst:\n",
    "    df.dropna(inplace=True)\n",
    "    print(df)"
   ]
  },
  {
   "cell_type": "code",
   "execution_count": 6,
   "metadata": {},
   "outputs": [],
   "source": [
    "# These two columns did not contain any data. \n",
    "# Not sure why they are there to begin with. Removed them.\n",
    "\n",
    "c2_exp = c2_exp.drop(columns=['Unnamed: 123'])\n",
    "g_line = g_line.drop(columns=['Unnamed: 117'])\n",
    "\n",
    "# print(c2_exp), print(g_line)"
   ]
  },
  {
   "cell_type": "code",
   "execution_count": 7,
   "metadata": {},
   "outputs": [
    {
     "name": "stdout",
     "output_type": "stream",
     "text": [
      "5             Granville Apts\n",
      "6                    Walmart\n",
      "7          Meadows/Olivewood\n",
      "8         Alexander & \"G\" St\n",
      "9          Rite Aid/Walgreen\n",
      "10           El Portal Plaza\n",
      "11            Mercy Hospital\n",
      "12             Arrow Wood Dr\n",
      "13                 Muir Pass\n",
      "14         Scholars/Emigrant\n",
      "15     TriCol/Mercy Hospital\n",
      "16    El Portal Plaza/\"G\" St\n",
      "17        \"G\" St & Alexander\n",
      "18         Meadows/Olivewood\n",
      "19                   Walmart\n",
      "20            Granville Apts\n",
      "24                     TOTAL\n",
      "Name: Unnamed: 86, dtype: object\n"
     ]
    },
    {
     "data": {
      "text/plain": [
       "5      251\n",
       "6       27\n",
       "7      160\n",
       "8      220\n",
       "9      253\n",
       "10     210\n",
       "11      19\n",
       "12     937\n",
       "13    1893\n",
       "14     223\n",
       "15       7\n",
       "16      16\n",
       "17      32\n",
       "18      18\n",
       "19      38\n",
       "20       0\n",
       "24    4304\n",
       "Name: Unnamed: 100, dtype: object"
      ]
     },
     "execution_count": 7,
     "metadata": {},
     "output_type": "execute_result"
    }
   ],
   "source": [
    "# Check that these are the columns to plot in a bar graph\n",
    "\n",
    "print(c1_blue.iloc[1:, 0])\n",
    "c1_blue.iloc[1:, -1]"
   ]
  },
  {
   "cell_type": "code",
   "execution_count": null,
   "metadata": {},
   "outputs": [
    {
     "data": {
      "text/plain": [
       "Text(0.5, 0.98, 'UCM CatTracks - Feb 2019 Bus Load Data')"
      ]
     },
     "execution_count": 8,
     "metadata": {},
     "output_type": "execute_result"
    }
   ],
   "source": [
    "dfs_lst = [c1_blue, c1_gold, c2_exp, g_line]\n",
    "c1_blue.iloc[1:, 0]\n",
    "c1_blue.iloc[1:, -1]\n",
    "\n",
    "fig, axs = plt.subplots(2,2, figsize = (18,14), sharey=True, constrained_layout=True)\n",
    "for i, ax in enumerate(axs.flat):\n",
    "    ax.bar(dfs_lst[i].iloc[1:, 0], dfs_lst[i].iloc[1:, -1])\n",
    "    ax.set_xticklabels(labels=dfs_lst[i].iloc[1:, 0], rotation=45, ha='right')\n",
    "    ax.set_title(dfs_lst[i].iloc[0,0])\n",
    "    ax.set_ylabel('# Students')\n",
    "\n",
    "fig.suptitle('UCM CatTracks - Feb 2019 Bus Load Data', fontsize=24)\n",
    "# fig.savefig('2019-feb-plot.png')"
   ]
  },
  {
   "cell_type": "code",
   "execution_count": null,
   "metadata": {},
   "outputs": [],
   "source": [
    "c1_blue"
   ]
  },
  {
   "cell_type": "code",
   "execution_count": null,
   "metadata": {},
   "outputs": [],
   "source": [
    "c1_gold"
   ]
  },
  {
   "cell_type": "code",
   "execution_count": null,
   "metadata": {},
   "outputs": [],
   "source": [
    "c2_exp"
   ]
  },
  {
   "cell_type": "code",
   "execution_count": null,
   "metadata": {},
   "outputs": [],
   "source": [
    "g_line"
   ]
  },
  {
   "cell_type": "code",
   "execution_count": null,
   "metadata": {},
   "outputs": [],
   "source": []
  },
  {
   "cell_type": "code",
   "execution_count": null,
   "metadata": {},
   "outputs": [],
   "source": []
  },
  {
   "cell_type": "code",
   "execution_count": null,
   "metadata": {},
   "outputs": [],
   "source": [
    "   "
   ]
  }
 ],
 "metadata": {
  "kernelspec": {
   "display_name": "Python 3",
   "language": "python",
   "name": "python3"
  },
  "language_info": {
   "codemirror_mode": {
    "name": "ipython",
    "version": 3
   },
   "file_extension": ".py",
   "mimetype": "text/x-python",
   "name": "python",
   "nbconvert_exporter": "python",
   "pygments_lexer": "ipython3",
   "version": "3.7.5"
  }
 },
 "nbformat": 4,
 "nbformat_minor": 2
}
